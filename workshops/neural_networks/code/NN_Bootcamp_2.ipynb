{
  "nbformat": 4,
  "nbformat_minor": 0,
  "metadata": {
    "colab": {
      "provenance": [],
      "gpuType": "T4"
    },
    "kernelspec": {
      "name": "python3",
      "display_name": "Python 3"
    },
    "language_info": {
      "name": "python"
    },
    "accelerator": "GPU"
  },
  "cells": [
    {
      "cell_type": "code",
      "execution_count": 1,
      "metadata": {
        "id": "UtKGbQcdmxUU"
      },
      "outputs": [],
      "source": [
        "#Iris Dataset - UCI Machine Learning Repo: 10.24432/C56C76\n",
        "#https://archive.ics.uci.edu/dataset/53/iris\n",
        "#Almost directly using the example here: https://gist.github.com/NiharG15/cd8272c9639941cf8f481a7c4478d525\n",
        "\n",
        "\"\"\"\n",
        "    A simple neural network written in Keras (TensorFlow backend) to classify the IRIS data\n",
        "\"\"\"\n",
        "\n",
        "import numpy as np\n",
        "\n",
        "from sklearn.datasets import load_iris\n",
        "from sklearn.model_selection import train_test_split\n",
        "from sklearn.preprocessing import OneHotEncoder\n",
        "\n",
        "from keras.models import Sequential\n",
        "from keras.layers import Dense\n",
        "from keras.optimizers import Adam\n",
        "from matplotlib import pyplot as plt"
      ]
    },
    {
      "cell_type": "code",
      "source": [
        "iris_data = load_iris() # load the iris dataset\n",
        "\n",
        "print('Example data: ')\n",
        "print(iris_data.data[:5])\n",
        "print('Example labels: ')\n",
        "print(iris_data.target[:5])"
      ],
      "metadata": {
        "colab": {
          "base_uri": "https://localhost:8080/"
        },
        "id": "C-yrKrrlLiAX",
        "outputId": "913f8f7b-a1c6-480e-a8c4-1c46125b5aec"
      },
      "execution_count": 2,
      "outputs": [
        {
          "output_type": "stream",
          "name": "stdout",
          "text": [
            "Example data: \n",
            "[[5.1 3.5 1.4 0.2]\n",
            " [4.9 3.  1.4 0.2]\n",
            " [4.7 3.2 1.3 0.2]\n",
            " [4.6 3.1 1.5 0.2]\n",
            " [5.  3.6 1.4 0.2]]\n",
            "Example labels: \n",
            "[0 0 0 0 0]\n"
          ]
        }
      ]
    },
    {
      "cell_type": "code",
      "source": [
        "x = iris_data.data\n",
        "y_ = iris_data.target.reshape(-1, 1) # Convert data to a single column\n",
        "\n",
        "# One Hot encode the class labels\n",
        "encoder = OneHotEncoder(sparse_output=False)\n",
        "y = encoder.fit_transform(y_)\n",
        "#print(y)"
      ],
      "metadata": {
        "id": "Vsoo41_yMbx7"
      },
      "execution_count": 5,
      "outputs": []
    },
    {
      "cell_type": "code",
      "source": [
        "# Split the data for training and testing\n",
        "train_x, test_x, train_y, test_y = train_test_split(x, y, test_size=0.20)"
      ],
      "metadata": {
        "id": "8ydZ3o_wLo-B"
      },
      "execution_count": 6,
      "outputs": []
    },
    {
      "cell_type": "code",
      "source": [
        "model = Sequential()\n",
        "\n",
        "model.add(Dense(10, input_shape=(4,), activation='relu', name='fc1'))\n",
        "model.add(Dense(10, activation='relu', name='fc2'))\n",
        "model.add(Dense(3, activation='softmax', name='output'))\n",
        "\n"
      ],
      "metadata": {
        "colab": {
          "base_uri": "https://localhost:8080/",
          "height": 238
        },
        "id": "fjfOnOguLptb",
        "outputId": "863dbfda-4c8b-4934-e198-df31183497bf"
      },
      "execution_count": 8,
      "outputs": [
        {
          "output_type": "display_data",
          "data": {
            "text/plain": [
              "\u001b[1mModel: \"sequential_1\"\u001b[0m\n"
            ],
            "text/html": [
              "<pre style=\"white-space:pre;overflow-x:auto;line-height:normal;font-family:Menlo,'DejaVu Sans Mono',consolas,'Courier New',monospace\"><span style=\"font-weight: bold\">Model: \"sequential_1\"</span>\n",
              "</pre>\n"
            ]
          },
          "metadata": {}
        },
        {
          "output_type": "display_data",
          "data": {
            "text/plain": [
              "┏━━━━━━━━━━━━━━━━━━━━━━━━━━━━━━━━━┳━━━━━━━━━━━━━━━━━━━━━━━━┳━━━━━━━━━━━━━━━┓\n",
              "┃\u001b[1m \u001b[0m\u001b[1mLayer (type)                   \u001b[0m\u001b[1m \u001b[0m┃\u001b[1m \u001b[0m\u001b[1mOutput Shape          \u001b[0m\u001b[1m \u001b[0m┃\u001b[1m \u001b[0m\u001b[1m      Param #\u001b[0m\u001b[1m \u001b[0m┃\n",
              "┡━━━━━━━━━━━━━━━━━━━━━━━━━━━━━━━━━╇━━━━━━━━━━━━━━━━━━━━━━━━╇━━━━━━━━━━━━━━━┩\n",
              "│ fc1 (\u001b[38;5;33mDense\u001b[0m)                     │ (\u001b[38;5;45mNone\u001b[0m, \u001b[38;5;34m10\u001b[0m)             │            \u001b[38;5;34m50\u001b[0m │\n",
              "├─────────────────────────────────┼────────────────────────┼───────────────┤\n",
              "│ fc2 (\u001b[38;5;33mDense\u001b[0m)                     │ (\u001b[38;5;45mNone\u001b[0m, \u001b[38;5;34m10\u001b[0m)             │           \u001b[38;5;34m110\u001b[0m │\n",
              "├─────────────────────────────────┼────────────────────────┼───────────────┤\n",
              "│ output (\u001b[38;5;33mDense\u001b[0m)                  │ (\u001b[38;5;45mNone\u001b[0m, \u001b[38;5;34m3\u001b[0m)              │            \u001b[38;5;34m33\u001b[0m │\n",
              "└─────────────────────────────────┴────────────────────────┴───────────────┘\n"
            ],
            "text/html": [
              "<pre style=\"white-space:pre;overflow-x:auto;line-height:normal;font-family:Menlo,'DejaVu Sans Mono',consolas,'Courier New',monospace\">┏━━━━━━━━━━━━━━━━━━━━━━━━━━━━━━━━━┳━━━━━━━━━━━━━━━━━━━━━━━━┳━━━━━━━━━━━━━━━┓\n",
              "┃<span style=\"font-weight: bold\"> Layer (type)                    </span>┃<span style=\"font-weight: bold\"> Output Shape           </span>┃<span style=\"font-weight: bold\">       Param # </span>┃\n",
              "┡━━━━━━━━━━━━━━━━━━━━━━━━━━━━━━━━━╇━━━━━━━━━━━━━━━━━━━━━━━━╇━━━━━━━━━━━━━━━┩\n",
              "│ fc1 (<span style=\"color: #0087ff; text-decoration-color: #0087ff\">Dense</span>)                     │ (<span style=\"color: #00d7ff; text-decoration-color: #00d7ff\">None</span>, <span style=\"color: #00af00; text-decoration-color: #00af00\">10</span>)             │            <span style=\"color: #00af00; text-decoration-color: #00af00\">50</span> │\n",
              "├─────────────────────────────────┼────────────────────────┼───────────────┤\n",
              "│ fc2 (<span style=\"color: #0087ff; text-decoration-color: #0087ff\">Dense</span>)                     │ (<span style=\"color: #00d7ff; text-decoration-color: #00d7ff\">None</span>, <span style=\"color: #00af00; text-decoration-color: #00af00\">10</span>)             │           <span style=\"color: #00af00; text-decoration-color: #00af00\">110</span> │\n",
              "├─────────────────────────────────┼────────────────────────┼───────────────┤\n",
              "│ output (<span style=\"color: #0087ff; text-decoration-color: #0087ff\">Dense</span>)                  │ (<span style=\"color: #00d7ff; text-decoration-color: #00d7ff\">None</span>, <span style=\"color: #00af00; text-decoration-color: #00af00\">3</span>)              │            <span style=\"color: #00af00; text-decoration-color: #00af00\">33</span> │\n",
              "└─────────────────────────────────┴────────────────────────┴───────────────┘\n",
              "</pre>\n"
            ]
          },
          "metadata": {}
        },
        {
          "output_type": "display_data",
          "data": {
            "text/plain": [
              "\u001b[1m Total params: \u001b[0m\u001b[38;5;34m193\u001b[0m (772.00 B)\n"
            ],
            "text/html": [
              "<pre style=\"white-space:pre;overflow-x:auto;line-height:normal;font-family:Menlo,'DejaVu Sans Mono',consolas,'Courier New',monospace\"><span style=\"font-weight: bold\"> Total params: </span><span style=\"color: #00af00; text-decoration-color: #00af00\">193</span> (772.00 B)\n",
              "</pre>\n"
            ]
          },
          "metadata": {}
        },
        {
          "output_type": "display_data",
          "data": {
            "text/plain": [
              "\u001b[1m Trainable params: \u001b[0m\u001b[38;5;34m193\u001b[0m (772.00 B)\n"
            ],
            "text/html": [
              "<pre style=\"white-space:pre;overflow-x:auto;line-height:normal;font-family:Menlo,'DejaVu Sans Mono',consolas,'Courier New',monospace\"><span style=\"font-weight: bold\"> Trainable params: </span><span style=\"color: #00af00; text-decoration-color: #00af00\">193</span> (772.00 B)\n",
              "</pre>\n"
            ]
          },
          "metadata": {}
        },
        {
          "output_type": "display_data",
          "data": {
            "text/plain": [
              "\u001b[1m Non-trainable params: \u001b[0m\u001b[38;5;34m0\u001b[0m (0.00 B)\n"
            ],
            "text/html": [
              "<pre style=\"white-space:pre;overflow-x:auto;line-height:normal;font-family:Menlo,'DejaVu Sans Mono',consolas,'Courier New',monospace\"><span style=\"font-weight: bold\"> Non-trainable params: </span><span style=\"color: #00af00; text-decoration-color: #00af00\">0</span> (0.00 B)\n",
              "</pre>\n"
            ]
          },
          "metadata": {}
        }
      ]
    },
    {
      "cell_type": "code",
      "source": [
        "# Adam optimizer with learning rate of 0.001\n",
        "model.compile(optimizer=\"adam\", loss='categorical_crossentropy', metrics=['accuracy'])"
      ],
      "metadata": {
        "id": "UyTZwe5JLsNd"
      },
      "execution_count": 10,
      "outputs": []
    },
    {
      "cell_type": "code",
      "source": [
        "print('Neural Network Model Summary: ')\n",
        "print(model.summary())"
      ],
      "metadata": {
        "colab": {
          "base_uri": "https://localhost:8080/",
          "height": 275
        },
        "id": "scRqm03aLue3",
        "outputId": "7828870b-4017-44c6-c60e-657c32289138"
      },
      "execution_count": 11,
      "outputs": [
        {
          "output_type": "stream",
          "name": "stdout",
          "text": [
            "Neural Network Model Summary: \n"
          ]
        },
        {
          "output_type": "display_data",
          "data": {
            "text/plain": [
              "\u001b[1mModel: \"sequential_1\"\u001b[0m\n"
            ],
            "text/html": [
              "<pre style=\"white-space:pre;overflow-x:auto;line-height:normal;font-family:Menlo,'DejaVu Sans Mono',consolas,'Courier New',monospace\"><span style=\"font-weight: bold\">Model: \"sequential_1\"</span>\n",
              "</pre>\n"
            ]
          },
          "metadata": {}
        },
        {
          "output_type": "display_data",
          "data": {
            "text/plain": [
              "┏━━━━━━━━━━━━━━━━━━━━━━━━━━━━━━━━━┳━━━━━━━━━━━━━━━━━━━━━━━━┳━━━━━━━━━━━━━━━┓\n",
              "┃\u001b[1m \u001b[0m\u001b[1mLayer (type)                   \u001b[0m\u001b[1m \u001b[0m┃\u001b[1m \u001b[0m\u001b[1mOutput Shape          \u001b[0m\u001b[1m \u001b[0m┃\u001b[1m \u001b[0m\u001b[1m      Param #\u001b[0m\u001b[1m \u001b[0m┃\n",
              "┡━━━━━━━━━━━━━━━━━━━━━━━━━━━━━━━━━╇━━━━━━━━━━━━━━━━━━━━━━━━╇━━━━━━━━━━━━━━━┩\n",
              "│ fc1 (\u001b[38;5;33mDense\u001b[0m)                     │ (\u001b[38;5;45mNone\u001b[0m, \u001b[38;5;34m10\u001b[0m)             │            \u001b[38;5;34m50\u001b[0m │\n",
              "├─────────────────────────────────┼────────────────────────┼───────────────┤\n",
              "│ fc2 (\u001b[38;5;33mDense\u001b[0m)                     │ (\u001b[38;5;45mNone\u001b[0m, \u001b[38;5;34m10\u001b[0m)             │           \u001b[38;5;34m110\u001b[0m │\n",
              "├─────────────────────────────────┼────────────────────────┼───────────────┤\n",
              "│ output (\u001b[38;5;33mDense\u001b[0m)                  │ (\u001b[38;5;45mNone\u001b[0m, \u001b[38;5;34m3\u001b[0m)              │            \u001b[38;5;34m33\u001b[0m │\n",
              "└─────────────────────────────────┴────────────────────────┴───────────────┘\n"
            ],
            "text/html": [
              "<pre style=\"white-space:pre;overflow-x:auto;line-height:normal;font-family:Menlo,'DejaVu Sans Mono',consolas,'Courier New',monospace\">┏━━━━━━━━━━━━━━━━━━━━━━━━━━━━━━━━━┳━━━━━━━━━━━━━━━━━━━━━━━━┳━━━━━━━━━━━━━━━┓\n",
              "┃<span style=\"font-weight: bold\"> Layer (type)                    </span>┃<span style=\"font-weight: bold\"> Output Shape           </span>┃<span style=\"font-weight: bold\">       Param # </span>┃\n",
              "┡━━━━━━━━━━━━━━━━━━━━━━━━━━━━━━━━━╇━━━━━━━━━━━━━━━━━━━━━━━━╇━━━━━━━━━━━━━━━┩\n",
              "│ fc1 (<span style=\"color: #0087ff; text-decoration-color: #0087ff\">Dense</span>)                     │ (<span style=\"color: #00d7ff; text-decoration-color: #00d7ff\">None</span>, <span style=\"color: #00af00; text-decoration-color: #00af00\">10</span>)             │            <span style=\"color: #00af00; text-decoration-color: #00af00\">50</span> │\n",
              "├─────────────────────────────────┼────────────────────────┼───────────────┤\n",
              "│ fc2 (<span style=\"color: #0087ff; text-decoration-color: #0087ff\">Dense</span>)                     │ (<span style=\"color: #00d7ff; text-decoration-color: #00d7ff\">None</span>, <span style=\"color: #00af00; text-decoration-color: #00af00\">10</span>)             │           <span style=\"color: #00af00; text-decoration-color: #00af00\">110</span> │\n",
              "├─────────────────────────────────┼────────────────────────┼───────────────┤\n",
              "│ output (<span style=\"color: #0087ff; text-decoration-color: #0087ff\">Dense</span>)                  │ (<span style=\"color: #00d7ff; text-decoration-color: #00d7ff\">None</span>, <span style=\"color: #00af00; text-decoration-color: #00af00\">3</span>)              │            <span style=\"color: #00af00; text-decoration-color: #00af00\">33</span> │\n",
              "└─────────────────────────────────┴────────────────────────┴───────────────┘\n",
              "</pre>\n"
            ]
          },
          "metadata": {}
        },
        {
          "output_type": "display_data",
          "data": {
            "text/plain": [
              "\u001b[1m Total params: \u001b[0m\u001b[38;5;34m193\u001b[0m (772.00 B)\n"
            ],
            "text/html": [
              "<pre style=\"white-space:pre;overflow-x:auto;line-height:normal;font-family:Menlo,'DejaVu Sans Mono',consolas,'Courier New',monospace\"><span style=\"font-weight: bold\"> Total params: </span><span style=\"color: #00af00; text-decoration-color: #00af00\">193</span> (772.00 B)\n",
              "</pre>\n"
            ]
          },
          "metadata": {}
        },
        {
          "output_type": "display_data",
          "data": {
            "text/plain": [
              "\u001b[1m Trainable params: \u001b[0m\u001b[38;5;34m193\u001b[0m (772.00 B)\n"
            ],
            "text/html": [
              "<pre style=\"white-space:pre;overflow-x:auto;line-height:normal;font-family:Menlo,'DejaVu Sans Mono',consolas,'Courier New',monospace\"><span style=\"font-weight: bold\"> Trainable params: </span><span style=\"color: #00af00; text-decoration-color: #00af00\">193</span> (772.00 B)\n",
              "</pre>\n"
            ]
          },
          "metadata": {}
        },
        {
          "output_type": "display_data",
          "data": {
            "text/plain": [
              "\u001b[1m Non-trainable params: \u001b[0m\u001b[38;5;34m0\u001b[0m (0.00 B)\n"
            ],
            "text/html": [
              "<pre style=\"white-space:pre;overflow-x:auto;line-height:normal;font-family:Menlo,'DejaVu Sans Mono',consolas,'Courier New',monospace\"><span style=\"font-weight: bold\"> Non-trainable params: </span><span style=\"color: #00af00; text-decoration-color: #00af00\">0</span> (0.00 B)\n",
              "</pre>\n"
            ]
          },
          "metadata": {}
        },
        {
          "output_type": "stream",
          "name": "stdout",
          "text": [
            "None\n"
          ]
        }
      ]
    },
    {
      "cell_type": "code",
      "source": [
        "#Train the model\n",
        "history = model.fit(train_x, train_y, verbose=2, batch_size=5, epochs=200)"
      ],
      "metadata": {
        "colab": {
          "base_uri": "https://localhost:8080/"
        },
        "id": "Xrs5J7z8LxIO",
        "outputId": "30d9e478-151e-4518-9a82-c5e458757073"
      },
      "execution_count": 12,
      "outputs": [
        {
          "output_type": "stream",
          "name": "stdout",
          "text": [
            "Epoch 1/200\n",
            "24/24 - 2s - 86ms/step - accuracy: 0.3250 - loss: 1.5703\n",
            "Epoch 2/200\n",
            "24/24 - 0s - 3ms/step - accuracy: 0.3250 - loss: 1.3615\n",
            "Epoch 3/200\n",
            "24/24 - 0s - 4ms/step - accuracy: 0.3250 - loss: 1.2221\n",
            "Epoch 4/200\n",
            "24/24 - 0s - 3ms/step - accuracy: 0.3583 - loss: 1.1322\n",
            "Epoch 5/200\n",
            "24/24 - 0s - 7ms/step - accuracy: 0.4083 - loss: 1.0428\n",
            "Epoch 6/200\n",
            "24/24 - 0s - 4ms/step - accuracy: 0.3583 - loss: 0.9948\n",
            "Epoch 7/200\n",
            "24/24 - 0s - 6ms/step - accuracy: 0.3583 - loss: 0.9542\n",
            "Epoch 8/200\n",
            "24/24 - 0s - 4ms/step - accuracy: 0.3583 - loss: 0.9173\n",
            "Epoch 9/200\n",
            "24/24 - 0s - 6ms/step - accuracy: 0.4333 - loss: 0.8842\n",
            "Epoch 10/200\n",
            "24/24 - 0s - 5ms/step - accuracy: 0.5917 - loss: 0.8514\n",
            "Epoch 11/200\n",
            "24/24 - 0s - 5ms/step - accuracy: 0.6833 - loss: 0.8155\n",
            "Epoch 12/200\n",
            "24/24 - 0s - 4ms/step - accuracy: 0.7667 - loss: 0.7814\n",
            "Epoch 13/200\n",
            "24/24 - 0s - 5ms/step - accuracy: 0.7500 - loss: 0.7393\n",
            "Epoch 14/200\n",
            "24/24 - 0s - 5ms/step - accuracy: 0.7667 - loss: 0.6817\n",
            "Epoch 15/200\n",
            "24/24 - 0s - 6ms/step - accuracy: 0.7833 - loss: 0.6334\n",
            "Epoch 16/200\n",
            "24/24 - 0s - 5ms/step - accuracy: 0.7583 - loss: 0.5843\n",
            "Epoch 17/200\n",
            "24/24 - 0s - 6ms/step - accuracy: 0.8083 - loss: 0.5460\n",
            "Epoch 18/200\n",
            "24/24 - 0s - 6ms/step - accuracy: 0.8333 - loss: 0.5135\n",
            "Epoch 19/200\n",
            "24/24 - 0s - 5ms/step - accuracy: 0.7667 - loss: 0.4908\n",
            "Epoch 20/200\n",
            "24/24 - 0s - 4ms/step - accuracy: 0.8833 - loss: 0.4642\n",
            "Epoch 21/200\n",
            "24/24 - 0s - 3ms/step - accuracy: 0.8667 - loss: 0.4430\n",
            "Epoch 22/200\n",
            "24/24 - 0s - 6ms/step - accuracy: 0.8333 - loss: 0.4321\n",
            "Epoch 23/200\n",
            "24/24 - 0s - 6ms/step - accuracy: 0.9167 - loss: 0.4159\n",
            "Epoch 24/200\n",
            "24/24 - 0s - 6ms/step - accuracy: 0.8500 - loss: 0.4013\n",
            "Epoch 25/200\n",
            "24/24 - 0s - 6ms/step - accuracy: 0.9167 - loss: 0.3876\n",
            "Epoch 26/200\n",
            "24/24 - 0s - 6ms/step - accuracy: 0.9000 - loss: 0.3765\n",
            "Epoch 27/200\n",
            "24/24 - 0s - 3ms/step - accuracy: 0.9583 - loss: 0.3682\n",
            "Epoch 28/200\n",
            "24/24 - 0s - 4ms/step - accuracy: 0.8583 - loss: 0.3596\n",
            "Epoch 29/200\n",
            "24/24 - 0s - 3ms/step - accuracy: 0.9417 - loss: 0.3465\n",
            "Epoch 30/200\n",
            "24/24 - 0s - 6ms/step - accuracy: 0.9250 - loss: 0.3350\n",
            "Epoch 31/200\n",
            "24/24 - 0s - 3ms/step - accuracy: 0.9417 - loss: 0.3267\n",
            "Epoch 32/200\n",
            "24/24 - 0s - 3ms/step - accuracy: 0.9667 - loss: 0.3223\n",
            "Epoch 33/200\n",
            "24/24 - 0s - 6ms/step - accuracy: 0.9417 - loss: 0.3129\n",
            "Epoch 34/200\n",
            "24/24 - 0s - 3ms/step - accuracy: 0.9500 - loss: 0.3075\n",
            "Epoch 35/200\n",
            "24/24 - 0s - 3ms/step - accuracy: 0.9667 - loss: 0.2960\n",
            "Epoch 36/200\n",
            "24/24 - 0s - 3ms/step - accuracy: 0.9333 - loss: 0.2894\n",
            "Epoch 37/200\n",
            "24/24 - 0s - 3ms/step - accuracy: 0.9667 - loss: 0.2796\n",
            "Epoch 38/200\n",
            "24/24 - 0s - 3ms/step - accuracy: 0.9750 - loss: 0.2737\n",
            "Epoch 39/200\n",
            "24/24 - 0s - 4ms/step - accuracy: 0.9583 - loss: 0.2633\n",
            "Epoch 40/200\n",
            "24/24 - 0s - 5ms/step - accuracy: 0.9500 - loss: 0.2606\n",
            "Epoch 41/200\n",
            "24/24 - 0s - 3ms/step - accuracy: 0.9750 - loss: 0.2549\n",
            "Epoch 42/200\n",
            "24/24 - 0s - 6ms/step - accuracy: 0.9583 - loss: 0.2474\n",
            "Epoch 43/200\n",
            "24/24 - 0s - 3ms/step - accuracy: 0.9583 - loss: 0.2374\n",
            "Epoch 44/200\n",
            "24/24 - 0s - 6ms/step - accuracy: 0.9750 - loss: 0.2323\n",
            "Epoch 45/200\n",
            "24/24 - 0s - 6ms/step - accuracy: 0.9583 - loss: 0.2263\n",
            "Epoch 46/200\n",
            "24/24 - 0s - 3ms/step - accuracy: 0.9833 - loss: 0.2167\n",
            "Epoch 47/200\n",
            "24/24 - 0s - 3ms/step - accuracy: 0.9667 - loss: 0.2129\n",
            "Epoch 48/200\n",
            "24/24 - 0s - 3ms/step - accuracy: 0.9750 - loss: 0.2057\n",
            "Epoch 49/200\n",
            "24/24 - 0s - 6ms/step - accuracy: 0.9750 - loss: 0.2054\n",
            "Epoch 50/200\n",
            "24/24 - 0s - 3ms/step - accuracy: 0.9750 - loss: 0.1957\n",
            "Epoch 51/200\n",
            "24/24 - 0s - 6ms/step - accuracy: 0.9667 - loss: 0.1924\n",
            "Epoch 52/200\n",
            "24/24 - 0s - 3ms/step - accuracy: 0.9667 - loss: 0.1965\n",
            "Epoch 53/200\n",
            "24/24 - 0s - 6ms/step - accuracy: 0.9583 - loss: 0.1873\n",
            "Epoch 54/200\n",
            "24/24 - 0s - 3ms/step - accuracy: 0.9667 - loss: 0.1778\n",
            "Epoch 55/200\n",
            "24/24 - 0s - 6ms/step - accuracy: 0.9667 - loss: 0.1799\n",
            "Epoch 56/200\n",
            "24/24 - 0s - 6ms/step - accuracy: 0.9667 - loss: 0.1748\n",
            "Epoch 57/200\n",
            "24/24 - 0s - 3ms/step - accuracy: 0.9750 - loss: 0.1721\n",
            "Epoch 58/200\n",
            "24/24 - 0s - 4ms/step - accuracy: 0.9750 - loss: 0.1633\n",
            "Epoch 59/200\n",
            "24/24 - 0s - 6ms/step - accuracy: 0.9750 - loss: 0.1636\n",
            "Epoch 60/200\n",
            "24/24 - 0s - 6ms/step - accuracy: 0.9667 - loss: 0.1659\n",
            "Epoch 61/200\n",
            "24/24 - 0s - 6ms/step - accuracy: 0.9750 - loss: 0.1555\n",
            "Epoch 62/200\n",
            "24/24 - 0s - 3ms/step - accuracy: 0.9583 - loss: 0.1560\n",
            "Epoch 63/200\n",
            "24/24 - 0s - 3ms/step - accuracy: 0.9750 - loss: 0.1522\n",
            "Epoch 64/200\n",
            "24/24 - 0s - 6ms/step - accuracy: 0.9667 - loss: 0.1505\n",
            "Epoch 65/200\n",
            "24/24 - 0s - 3ms/step - accuracy: 0.9667 - loss: 0.1462\n",
            "Epoch 66/200\n",
            "24/24 - 0s - 3ms/step - accuracy: 0.9667 - loss: 0.1478\n",
            "Epoch 67/200\n",
            "24/24 - 0s - 4ms/step - accuracy: 0.9667 - loss: 0.1448\n",
            "Epoch 68/200\n",
            "24/24 - 0s - 3ms/step - accuracy: 0.9667 - loss: 0.1406\n",
            "Epoch 69/200\n",
            "24/24 - 0s - 3ms/step - accuracy: 0.9750 - loss: 0.1355\n",
            "Epoch 70/200\n",
            "24/24 - 0s - 6ms/step - accuracy: 0.9667 - loss: 0.1381\n",
            "Epoch 71/200\n",
            "24/24 - 0s - 3ms/step - accuracy: 0.9750 - loss: 0.1320\n",
            "Epoch 72/200\n",
            "24/24 - 0s - 3ms/step - accuracy: 0.9583 - loss: 0.1368\n",
            "Epoch 73/200\n",
            "24/24 - 0s - 3ms/step - accuracy: 0.9667 - loss: 0.1259\n",
            "Epoch 74/200\n",
            "24/24 - 0s - 6ms/step - accuracy: 0.9667 - loss: 0.1347\n",
            "Epoch 75/200\n",
            "24/24 - 0s - 6ms/step - accuracy: 0.9667 - loss: 0.1259\n",
            "Epoch 76/200\n",
            "24/24 - 0s - 6ms/step - accuracy: 0.9750 - loss: 0.1245\n",
            "Epoch 77/200\n",
            "24/24 - 0s - 4ms/step - accuracy: 0.9583 - loss: 0.1304\n",
            "Epoch 78/200\n",
            "24/24 - 0s - 3ms/step - accuracy: 0.9667 - loss: 0.1311\n",
            "Epoch 79/200\n",
            "24/24 - 0s - 6ms/step - accuracy: 0.9750 - loss: 0.1196\n",
            "Epoch 80/200\n",
            "24/24 - 0s - 3ms/step - accuracy: 0.9750 - loss: 0.1215\n",
            "Epoch 81/200\n",
            "24/24 - 0s - 3ms/step - accuracy: 0.9667 - loss: 0.1167\n",
            "Epoch 82/200\n",
            "24/24 - 0s - 6ms/step - accuracy: 0.9750 - loss: 0.1219\n",
            "Epoch 83/200\n",
            "24/24 - 0s - 6ms/step - accuracy: 0.9750 - loss: 0.1195\n",
            "Epoch 84/200\n",
            "24/24 - 0s - 3ms/step - accuracy: 0.9750 - loss: 0.1140\n",
            "Epoch 85/200\n",
            "24/24 - 0s - 6ms/step - accuracy: 0.9667 - loss: 0.1129\n",
            "Epoch 86/200\n",
            "24/24 - 0s - 6ms/step - accuracy: 0.9583 - loss: 0.1108\n",
            "Epoch 87/200\n",
            "24/24 - 0s - 3ms/step - accuracy: 0.9750 - loss: 0.1102\n",
            "Epoch 88/200\n",
            "24/24 - 0s - 6ms/step - accuracy: 0.9750 - loss: 0.1122\n",
            "Epoch 89/200\n",
            "24/24 - 0s - 6ms/step - accuracy: 0.9750 - loss: 0.1059\n",
            "Epoch 90/200\n",
            "24/24 - 0s - 6ms/step - accuracy: 0.9750 - loss: 0.1082\n",
            "Epoch 91/200\n",
            "24/24 - 0s - 6ms/step - accuracy: 0.9750 - loss: 0.1081\n",
            "Epoch 92/200\n",
            "24/24 - 0s - 3ms/step - accuracy: 0.9417 - loss: 0.1131\n",
            "Epoch 93/200\n",
            "24/24 - 0s - 3ms/step - accuracy: 0.9667 - loss: 0.1149\n",
            "Epoch 94/200\n",
            "24/24 - 0s - 6ms/step - accuracy: 0.9667 - loss: 0.1036\n",
            "Epoch 95/200\n",
            "24/24 - 0s - 5ms/step - accuracy: 0.9667 - loss: 0.1019\n",
            "Epoch 96/200\n",
            "24/24 - 0s - 6ms/step - accuracy: 0.9667 - loss: 0.1036\n",
            "Epoch 97/200\n",
            "24/24 - 0s - 3ms/step - accuracy: 0.9750 - loss: 0.1049\n",
            "Epoch 98/200\n",
            "24/24 - 0s - 3ms/step - accuracy: 0.9583 - loss: 0.1049\n",
            "Epoch 99/200\n",
            "24/24 - 0s - 3ms/step - accuracy: 0.9750 - loss: 0.1008\n",
            "Epoch 100/200\n",
            "24/24 - 0s - 3ms/step - accuracy: 0.9750 - loss: 0.0992\n",
            "Epoch 101/200\n",
            "24/24 - 0s - 3ms/step - accuracy: 0.9750 - loss: 0.1007\n",
            "Epoch 102/200\n",
            "24/24 - 0s - 6ms/step - accuracy: 0.9583 - loss: 0.0990\n",
            "Epoch 103/200\n",
            "24/24 - 0s - 6ms/step - accuracy: 0.9750 - loss: 0.0980\n",
            "Epoch 104/200\n",
            "24/24 - 0s - 4ms/step - accuracy: 0.9750 - loss: 0.0951\n",
            "Epoch 105/200\n",
            "24/24 - 0s - 3ms/step - accuracy: 0.9750 - loss: 0.0966\n",
            "Epoch 106/200\n",
            "24/24 - 0s - 3ms/step - accuracy: 0.9750 - loss: 0.0951\n",
            "Epoch 107/200\n",
            "24/24 - 0s - 3ms/step - accuracy: 0.9583 - loss: 0.1003\n",
            "Epoch 108/200\n",
            "24/24 - 0s - 3ms/step - accuracy: 0.9667 - loss: 0.0978\n",
            "Epoch 109/200\n",
            "24/24 - 0s - 3ms/step - accuracy: 0.9667 - loss: 0.0947\n",
            "Epoch 110/200\n",
            "24/24 - 0s - 6ms/step - accuracy: 0.9750 - loss: 0.0931\n",
            "Epoch 111/200\n",
            "24/24 - 0s - 6ms/step - accuracy: 0.9750 - loss: 0.0936\n",
            "Epoch 112/200\n",
            "24/24 - 0s - 3ms/step - accuracy: 0.9667 - loss: 0.0913\n",
            "Epoch 113/200\n",
            "24/24 - 0s - 7ms/step - accuracy: 0.9750 - loss: 0.0922\n",
            "Epoch 114/200\n",
            "24/24 - 0s - 6ms/step - accuracy: 0.9667 - loss: 0.0933\n",
            "Epoch 115/200\n",
            "24/24 - 0s - 5ms/step - accuracy: 0.9667 - loss: 0.0943\n",
            "Epoch 116/200\n",
            "24/24 - 0s - 5ms/step - accuracy: 0.9667 - loss: 0.0902\n",
            "Epoch 117/200\n",
            "24/24 - 0s - 6ms/step - accuracy: 0.9667 - loss: 0.0910\n",
            "Epoch 118/200\n",
            "24/24 - 0s - 6ms/step - accuracy: 0.9833 - loss: 0.0889\n",
            "Epoch 119/200\n",
            "24/24 - 0s - 5ms/step - accuracy: 0.9750 - loss: 0.0880\n",
            "Epoch 120/200\n",
            "24/24 - 0s - 7ms/step - accuracy: 0.9750 - loss: 0.0897\n",
            "Epoch 121/200\n",
            "24/24 - 0s - 11ms/step - accuracy: 0.9667 - loss: 0.0870\n",
            "Epoch 122/200\n",
            "24/24 - 0s - 14ms/step - accuracy: 0.9667 - loss: 0.0915\n",
            "Epoch 123/200\n",
            "24/24 - 0s - 5ms/step - accuracy: 0.9750 - loss: 0.0854\n",
            "Epoch 124/200\n",
            "24/24 - 0s - 6ms/step - accuracy: 0.9667 - loss: 0.0892\n",
            "Epoch 125/200\n",
            "24/24 - 0s - 6ms/step - accuracy: 0.9667 - loss: 0.0914\n",
            "Epoch 126/200\n",
            "24/24 - 0s - 4ms/step - accuracy: 0.9667 - loss: 0.0909\n",
            "Epoch 127/200\n",
            "24/24 - 0s - 3ms/step - accuracy: 0.9583 - loss: 0.0891\n",
            "Epoch 128/200\n",
            "24/24 - 0s - 3ms/step - accuracy: 0.9667 - loss: 0.0855\n",
            "Epoch 129/200\n",
            "24/24 - 0s - 3ms/step - accuracy: 0.9750 - loss: 0.0842\n",
            "Epoch 130/200\n",
            "24/24 - 0s - 3ms/step - accuracy: 0.9667 - loss: 0.0869\n",
            "Epoch 131/200\n",
            "24/24 - 0s - 3ms/step - accuracy: 0.9583 - loss: 0.0895\n",
            "Epoch 132/200\n",
            "24/24 - 0s - 6ms/step - accuracy: 0.9667 - loss: 0.0840\n",
            "Epoch 133/200\n",
            "24/24 - 0s - 6ms/step - accuracy: 0.9750 - loss: 0.0863\n",
            "Epoch 134/200\n",
            "24/24 - 0s - 6ms/step - accuracy: 0.9667 - loss: 0.0895\n",
            "Epoch 135/200\n",
            "24/24 - 0s - 6ms/step - accuracy: 0.9667 - loss: 0.0858\n",
            "Epoch 136/200\n",
            "24/24 - 0s - 6ms/step - accuracy: 0.9667 - loss: 0.0881\n",
            "Epoch 137/200\n",
            "24/24 - 0s - 5ms/step - accuracy: 0.9750 - loss: 0.0832\n",
            "Epoch 138/200\n",
            "24/24 - 0s - 3ms/step - accuracy: 0.9833 - loss: 0.0816\n",
            "Epoch 139/200\n",
            "24/24 - 0s - 6ms/step - accuracy: 0.9583 - loss: 0.0846\n",
            "Epoch 140/200\n",
            "24/24 - 0s - 3ms/step - accuracy: 0.9750 - loss: 0.0814\n",
            "Epoch 141/200\n",
            "24/24 - 0s - 3ms/step - accuracy: 0.9750 - loss: 0.0796\n",
            "Epoch 142/200\n",
            "24/24 - 0s - 3ms/step - accuracy: 0.9750 - loss: 0.0810\n",
            "Epoch 143/200\n",
            "24/24 - 0s - 6ms/step - accuracy: 0.9667 - loss: 0.0833\n",
            "Epoch 144/200\n",
            "24/24 - 0s - 3ms/step - accuracy: 0.9583 - loss: 0.0872\n",
            "Epoch 145/200\n",
            "24/24 - 0s - 3ms/step - accuracy: 0.9667 - loss: 0.0843\n",
            "Epoch 146/200\n",
            "24/24 - 0s - 3ms/step - accuracy: 0.9667 - loss: 0.0894\n",
            "Epoch 147/200\n",
            "24/24 - 0s - 6ms/step - accuracy: 0.9667 - loss: 0.0798\n",
            "Epoch 148/200\n",
            "24/24 - 0s - 3ms/step - accuracy: 0.9750 - loss: 0.0829\n",
            "Epoch 149/200\n",
            "24/24 - 0s - 3ms/step - accuracy: 0.9750 - loss: 0.0784\n",
            "Epoch 150/200\n",
            "24/24 - 0s - 3ms/step - accuracy: 0.9750 - loss: 0.0797\n",
            "Epoch 151/200\n",
            "24/24 - 0s - 3ms/step - accuracy: 0.9917 - loss: 0.0779\n",
            "Epoch 152/200\n",
            "24/24 - 0s - 6ms/step - accuracy: 0.9667 - loss: 0.0817\n",
            "Epoch 153/200\n",
            "24/24 - 0s - 3ms/step - accuracy: 0.9667 - loss: 0.0864\n",
            "Epoch 154/200\n",
            "24/24 - 0s - 3ms/step - accuracy: 0.9667 - loss: 0.0827\n",
            "Epoch 155/200\n",
            "24/24 - 0s - 3ms/step - accuracy: 0.9750 - loss: 0.0751\n",
            "Epoch 156/200\n",
            "24/24 - 0s - 3ms/step - accuracy: 0.9750 - loss: 0.0768\n",
            "Epoch 157/200\n",
            "24/24 - 0s - 3ms/step - accuracy: 0.9833 - loss: 0.0763\n",
            "Epoch 158/200\n",
            "24/24 - 0s - 6ms/step - accuracy: 0.9750 - loss: 0.0763\n",
            "Epoch 159/200\n",
            "24/24 - 0s - 3ms/step - accuracy: 0.9667 - loss: 0.0775\n",
            "Epoch 160/200\n",
            "24/24 - 0s - 6ms/step - accuracy: 0.9750 - loss: 0.0792\n",
            "Epoch 161/200\n",
            "24/24 - 0s - 6ms/step - accuracy: 0.9750 - loss: 0.0741\n",
            "Epoch 162/200\n",
            "24/24 - 0s - 3ms/step - accuracy: 0.9750 - loss: 0.0749\n",
            "Epoch 163/200\n",
            "24/24 - 0s - 3ms/step - accuracy: 0.9833 - loss: 0.0744\n",
            "Epoch 164/200\n",
            "24/24 - 0s - 3ms/step - accuracy: 0.9833 - loss: 0.0749\n",
            "Epoch 165/200\n",
            "24/24 - 0s - 6ms/step - accuracy: 0.9750 - loss: 0.0737\n",
            "Epoch 166/200\n",
            "24/24 - 0s - 3ms/step - accuracy: 0.9833 - loss: 0.0734\n",
            "Epoch 167/200\n",
            "24/24 - 0s - 3ms/step - accuracy: 0.9833 - loss: 0.0747\n",
            "Epoch 168/200\n",
            "24/24 - 0s - 4ms/step - accuracy: 0.9750 - loss: 0.0729\n",
            "Epoch 169/200\n",
            "24/24 - 0s - 6ms/step - accuracy: 0.9833 - loss: 0.0720\n",
            "Epoch 170/200\n",
            "24/24 - 0s - 6ms/step - accuracy: 0.9750 - loss: 0.0744\n",
            "Epoch 171/200\n",
            "24/24 - 0s - 6ms/step - accuracy: 0.9750 - loss: 0.0725\n",
            "Epoch 172/200\n",
            "24/24 - 0s - 3ms/step - accuracy: 0.9833 - loss: 0.0721\n",
            "Epoch 173/200\n",
            "24/24 - 0s - 6ms/step - accuracy: 0.9750 - loss: 0.0753\n",
            "Epoch 174/200\n",
            "24/24 - 0s - 3ms/step - accuracy: 0.9833 - loss: 0.0712\n",
            "Epoch 175/200\n",
            "24/24 - 0s - 3ms/step - accuracy: 0.9750 - loss: 0.0762\n",
            "Epoch 176/200\n",
            "24/24 - 0s - 6ms/step - accuracy: 0.9833 - loss: 0.0697\n",
            "Epoch 177/200\n",
            "24/24 - 0s - 6ms/step - accuracy: 0.9833 - loss: 0.0745\n",
            "Epoch 178/200\n",
            "24/24 - 0s - 3ms/step - accuracy: 0.9833 - loss: 0.0729\n",
            "Epoch 179/200\n",
            "24/24 - 0s - 3ms/step - accuracy: 0.9750 - loss: 0.0787\n",
            "Epoch 180/200\n",
            "24/24 - 0s - 6ms/step - accuracy: 0.9667 - loss: 0.0832\n",
            "Epoch 181/200\n",
            "24/24 - 0s - 3ms/step - accuracy: 0.9750 - loss: 0.0796\n",
            "Epoch 182/200\n",
            "24/24 - 0s - 6ms/step - accuracy: 0.9833 - loss: 0.0738\n",
            "Epoch 183/200\n",
            "24/24 - 0s - 6ms/step - accuracy: 0.9833 - loss: 0.0688\n",
            "Epoch 184/200\n",
            "24/24 - 0s - 3ms/step - accuracy: 0.9667 - loss: 0.0798\n",
            "Epoch 185/200\n",
            "24/24 - 0s - 3ms/step - accuracy: 0.9833 - loss: 0.0752\n",
            "Epoch 186/200\n",
            "24/24 - 0s - 6ms/step - accuracy: 0.9833 - loss: 0.0706\n",
            "Epoch 187/200\n",
            "24/24 - 0s - 6ms/step - accuracy: 0.9833 - loss: 0.0700\n",
            "Epoch 188/200\n",
            "24/24 - 0s - 6ms/step - accuracy: 0.9833 - loss: 0.0692\n",
            "Epoch 189/200\n",
            "24/24 - 0s - 3ms/step - accuracy: 0.9833 - loss: 0.0713\n",
            "Epoch 190/200\n",
            "24/24 - 0s - 6ms/step - accuracy: 0.9667 - loss: 0.0730\n",
            "Epoch 191/200\n",
            "24/24 - 0s - 3ms/step - accuracy: 0.9833 - loss: 0.0718\n",
            "Epoch 192/200\n",
            "24/24 - 0s - 3ms/step - accuracy: 0.9833 - loss: 0.0691\n",
            "Epoch 193/200\n",
            "24/24 - 0s - 6ms/step - accuracy: 0.9917 - loss: 0.0690\n",
            "Epoch 194/200\n",
            "24/24 - 0s - 3ms/step - accuracy: 0.9833 - loss: 0.0676\n",
            "Epoch 195/200\n",
            "24/24 - 0s - 4ms/step - accuracy: 0.9833 - loss: 0.0699\n",
            "Epoch 196/200\n",
            "24/24 - 0s - 5ms/step - accuracy: 0.9750 - loss: 0.0670\n",
            "Epoch 197/200\n",
            "24/24 - 0s - 3ms/step - accuracy: 0.9750 - loss: 0.0694\n",
            "Epoch 198/200\n",
            "24/24 - 0s - 3ms/step - accuracy: 0.9750 - loss: 0.0725\n",
            "Epoch 199/200\n",
            "24/24 - 0s - 3ms/step - accuracy: 0.9833 - loss: 0.0685\n",
            "Epoch 200/200\n",
            "24/24 - 0s - 3ms/step - accuracy: 0.9667 - loss: 0.0701\n"
          ]
        }
      ]
    },
    {
      "cell_type": "code",
      "source": [
        "#Plot model history - accuracy\n",
        "#Help from stack overflow: https://stackoverflow.com/questions/41908379/keras-plot-training-validation-and-test-set-accuracy\n",
        "plt.plot(history.history['accuracy'])\n",
        "plt.title(\"Model Accuracy over time\")\n",
        "plt.xlabel('accuracy')\n",
        "plt.ylabel('epoch')\n",
        "plt.legend(['train'])"
      ],
      "metadata": {
        "colab": {
          "base_uri": "https://localhost:8080/",
          "height": 490
        },
        "id": "rJT_AkGyL9TP",
        "outputId": "1559ead7-6407-4875-e367-96a9c508dcfd"
      },
      "execution_count": 14,
      "outputs": [
        {
          "output_type": "execute_result",
          "data": {
            "text/plain": [
              "<matplotlib.legend.Legend at 0x788429944750>"
            ]
          },
          "metadata": {},
          "execution_count": 14
        },
        {
          "output_type": "display_data",
          "data": {
            "text/plain": [
              "<Figure size 640x480 with 1 Axes>"
            ],
            "image/png": "[encoded data removed]"
          },
          "metadata": {}
        }
      ]
    },
    {
      "cell_type": "code",
      "source": [
        "#Plot model history - loss\n",
        "#Help from stack overflow: https://stackoverflow.com/questions/41908379/keras-plot-training-validation-and-test-set-accuracy\n",
        "plt.plot(history.history['loss'])\n",
        "plt.title(\"Model Loss over time\")\n",
        "plt.xlabel('loss')\n",
        "plt.ylabel('epoch')\n",
        "plt.legend(['train'])"
      ],
      "metadata": {
        "colab": {
          "base_uri": "https://localhost:8080/",
          "height": 490
        },
        "id": "RGYLaHgyMCPC",
        "outputId": "a33123fc-84b9-49e0-b772-4a85aa019ef3"
      },
      "execution_count": 15,
      "outputs": [
        {
          "output_type": "execute_result",
          "data": {
            "text/plain": [
              "<matplotlib.legend.Legend at 0x78846059b9d0>"
            ]
          },
          "metadata": {},
          "execution_count": 15
        },
        {
          "output_type": "display_data",
          "data": {
            "text/plain": [
              "<Figure size 640x480 with 1 Axes>"
            ],
            "image/png": "[encoded data removed]"
          },
          "metadata": {}
        }
      ]
    },
    {
      "cell_type": "code",
      "source": [
        "# Test on unseen data\n",
        "\n",
        "results = model.evaluate(test_x, test_y)\n",
        "\n",
        "print('Final test set loss: {:4f}'.format(results[0]))\n",
        "print('Final test set accuracy: {:4f}'.format(results[1]))"
      ],
      "metadata": {
        "colab": {
          "base_uri": "https://localhost:8080/"
        },
        "id": "gNjue5rXL2Zc",
        "outputId": "b7c881b4-40da-4169-c761-a40acc5f7b90"
      },
      "execution_count": 16,
      "outputs": [
        {
          "output_type": "stream",
          "name": "stdout",
          "text": [
            "\u001b[1m1/1\u001b[0m \u001b[32m━━━━━━━━━━━━━━━━━━━━\u001b[0m\u001b[37m\u001b[0m \u001b[1m1s\u001b[0m 641ms/step - accuracy: 1.0000 - loss: 0.0261\n",
            "Final test set loss: 0.026068\n",
            "Final test set accuracy: 1.000000\n"
          ]
        }
      ]
    },
    {
      "cell_type": "code",
      "source": [
        "#Visualize a test set image and prediction\n",
        "#random_num = 0\n",
        "random_num = 18\n",
        "predict_y = model.predict(test_x)\n",
        "#Visualize an image from the training set\n",
        "print(f\"Prediction: {np.argmax(predict_y[random_num])}\")\n",
        "print(f\"Actual: {np.argmax(test_y[random_num])}\")"
      ],
      "metadata": {
        "colab": {
          "base_uri": "https://localhost:8080/"
        },
        "id": "n1swo2XKNNNR",
        "outputId": "5bbd2944-9750-4747-c142-db2b7522a9f5"
      },
      "execution_count": 20,
      "outputs": [
        {
          "output_type": "stream",
          "name": "stdout",
          "text": [
            "\u001b[1m1/1\u001b[0m \u001b[32m━━━━━━━━━━━━━━━━━━━━\u001b[0m\u001b[37m\u001b[0m \u001b[1m0s\u001b[0m 36ms/step\n",
            "Prediction: 2\n",
            "Actual: 2\n"
          ]
        }
      ]
    }
  ]
}